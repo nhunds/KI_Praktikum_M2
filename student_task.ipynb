{
 "cells": [
  {
   "cell_type": "markdown",
   "metadata": {},
   "source": [
    "# German traffic sign classification\n",
    "\n",
    "### Aufgaben:\n",
    "1. Suchen Sie sich 10-20 unterschiedliche Schilder aus, welche Sie mit Ihrem Modell klassifizieren wollen. Trainieren Sie dann ein Modell Ihrer Wahl. Wählen Sie danach eine der folgenden zusätzlichen Aufgaben aus:\n",
    "    - Erstellen Sie ein Convolutional Neural Network und ein Fully Connected Neural Network und vergleichen Sie die Leistung beider Modelle mit Ihrem Modell.\n",
    "    - Trainieren Sie ein Modell mit farbigen und ein Modell mit grauen Bildern (Farbbilder umgewandelt in Graustufen) und vergleichen Sie die Performance von beiden Modellen mit Ihrem Modell.\n",
    "    - Erstellen Sie zwei weitere Modelle und vergleichen Sie deren Performance. Das zweite Modell soll alle 43 Verkehrsschilder klassifizieren und das dritte Modell nur ein Verkehrsschild erkennen können.\n",
    "    - Benutzen Sie das Framework [Optuna](https://optuna.readthedocs.io/en/stable/index.html), um die Hyperparameter (Anzahl Layer, Anzahl Neuronen pro Layer, …) Ihres Modells zu optimieren. Welchen Vorteil bringt es [Optuna](https://optuna.readthedocs.io/en/stable/index.html) zu nutzen?\n",
    "    - Trainieren Sie ein Modell mit einer hohen Accuracy und ein Modell mit einer geringen Latenz. Wie stark unterscheidet sich die Latenz und Accuracy von beiden Modellen. Die Latenz ist die Zeit, die das Modell braucht, ein Verkehrsschild zu klassifizieren.\n",
    "    - Machen Sie eigene Bilder von Schildern und testen Sie Ihr Modell mit den eigenen Bildern. Variieren Sie Lichtverhältnisse, Wetter, … Die Bilder in den Trainingsdaten haben eine Auflösung von 32 x 32 Pixeln.\n",
    "2. Sie bekommen ein paar Tage vor der Abgabe einen Testdatensatz. Testet einmal eure erstellten Modelle mit den Testdaten und prüft, wie gut die Modelle unbekannte Daten klassifizieren können.\n",
    " **Verändern Sie danach <u>nicht</u> mehr die Modelle, um ein besseres Ergebnis zu bekommen**. Das Ziel ist es zu prüfen, wie gut eure Modelle in der Realität funktionieren würden.\n"
   ]
  },
  {
   "cell_type": "markdown",
   "metadata": {},
   "source": [
    "# Import libraries and datasets"
   ]
  },
  {
   "cell_type": "code",
   "execution_count": 13,
   "metadata": {},
   "outputs": [],
   "source": [
    "import matplotlib.pyplot as plt\n",
    "import numpy as np\n",
    "import tensorflow as tf\n",
    "import pandas as pd\n",
    "import seaborn as sns\n",
    "import pickle\n",
    "import random\n",
    "import os"
   ]
  },
  {
   "cell_type": "code",
   "execution_count": 14,
   "metadata": {},
   "outputs": [],
   "source": [
    "with open(os.path.join(\"dataset\", \"train.p\"), mode='rb') as training_data:\n",
    "    train = pickle.load(training_data)\n",
    "with open(os.path.join(\"dataset\", \"valid.p\"), mode='rb') as validation_data:\n",
    "    valid = pickle.load(validation_data)\n",
    "\n",
    "X_train, y_train = train['features'], train['labels']\n",
    "X_valid, y_valid = valid['features'], valid['labels']"
   ]
  },
  {
   "cell_type": "code",
   "execution_count": 15,
   "outputs": [
    {
     "name": "stdout",
     "output_type": "stream",
     "text": [
      "[1 1 1 ... 2 2 2]\n",
      "[1 1 1 ... 2 2 2]\n"
     ]
    }
   ],
   "source": [
    "# TODO: Select 10-20 different signs from the dataset\n",
    "selected = [\n",
    "    41,\n",
    "    40,\n",
    "    37,\n",
    "    36,\n",
    "    35,\n",
    "    34,\n",
    "    33,\n",
    "    31,\n",
    "    27,\n",
    "    26,\n",
    "    18,\n",
    "    17,\n",
    "    16,\n",
    "    15,\n",
    "    14,\n",
    "    13,\n",
    "    12,\n",
    "    11,\n",
    "    10,\n",
    "    1,\n",
    "]\n",
    "\n",
    "selected = list(range(19))\n",
    "\n",
    "train_select: list = list()\n",
    "for label in y_train:\n",
    "    train_select.append(label in selected)\n",
    "\n",
    "valid_select: list = list()\n",
    "for label in y_valid:\n",
    "    valid_select.append(label in selected)\n",
    "\n",
    "X_train = X_train[train_select]\n",
    "y_train = y_train[train_select]\n",
    "X_valid = X_valid[valid_select]\n",
    "y_valid = y_valid[valid_select]\n",
    "\n",
    "print(y_train)\n",
    "print(y_valid)\n",
    "\n",
    "# print(\"Count of selected labels:\", len(selected))\n",
    "# class Picture:\n",
    "#     def __init__(self, img, label):\n",
    "#         self.img = img\n",
    "#         self.label = label\n",
    "# train: list = list()\n",
    "# for img, label in zip(X_train, y_train):\n",
    "#     if label in selected:\n",
    "#         train.append(Picture(img, label))\n",
    "# valid: list = list()\n",
    "# for (img, label) in zip(X_valid, y_valid):\n",
    "#     if label in selected:\n",
    "#         valid.append(Picture(img, label))\n",
    "#\n",
    "# print(y_train)\n",
    "# print(y_valid)\n",
    "# for pic in train:\n",
    "#     if pic.label not in selected:\n",
    "#         print(\"Fehler\")\n",
    "# for pic in valid:\n",
    "#     if pic.label not in selected:\n",
    "#         print(\"Fehler\")\n",
    "#\n",
    "# X_train = list()\n",
    "# y_train = list()\n",
    "# for pic in train:\n",
    "#     X_train.append(pic.img)\n",
    "#     y_train.append(pic.label)\n",
    "#\n",
    "# X_valid = list()\n",
    "# y_valid = list()\n",
    "# for pic in valid:\n",
    "#     X_valid.append(pic.img)\n",
    "#     y_valid.append(pic.label)\n",
    "#\n",
    "# X_train = np.array(X_train)\n",
    "# y_train = np.array(y_train)\n",
    "# X_valid = np.array(X_valid)\n",
    "# y_valid = np.array(y_valid)"
   ],
   "metadata": {
    "collapsed": false
   }
  },
  {
   "cell_type": "markdown",
   "metadata": {},
   "source": [
    "# Shuffle and configure the datasets"
   ]
  },
  {
   "cell_type": "code",
   "execution_count": 16,
   "metadata": {},
   "outputs": [],
   "source": [
    "from sklearn.utils import shuffle\n",
    "X_train, y_train = shuffle(X_train, y_train)\n",
    "X_valid, y_valid = shuffle(X_valid, y_valid)"
   ]
  },
  {
   "cell_type": "code",
   "execution_count": 17,
   "metadata": {},
   "outputs": [],
   "source": [
    "# Normalize image to [0, 1]\n",
    "X_train_norm = X_train / 255\n",
    "X_valid_norm = X_valid / 255"
   ]
  },
  {
   "cell_type": "code",
   "execution_count": 18,
   "metadata": {},
   "outputs": [
    {
     "data": {
      "text/plain": "<matplotlib.image.AxesImage at 0x7f6fa4429e70>"
     },
     "execution_count": 18,
     "metadata": {},
     "output_type": "execute_result"
    },
    {
     "data": {
      "text/plain": "<Figure size 640x480 with 1 Axes>",
      "image/png": "[encoded data removed]"
     },
     "metadata": {},
     "output_type": "display_data"
    },
    {
     "data": {
      "text/plain": "<Figure size 640x480 with 1 Axes>",
      "image/png": "[encoded data removed]"
     },
     "metadata": {},
     "output_type": "display_data"
    }
   ],
   "source": [
    "# Check that the images have been correctly converted and normalised\n",
    "i = random.randint(1, len(X_train_norm))\n",
    "plt.grid(False)\n",
    "plt.imshow(X_train[i])\n",
    "plt.figure()\n",
    "plt.grid(False)\n",
    "plt.imshow(X_train_norm[i].squeeze(), cmap = 'gray') # cmap"
   ]
  },
  {
   "cell_type": "markdown",
   "metadata": {},
   "source": [
    "This layer creates a convolution kernel that is convolved with the layer input to produce a tensor of outputs. If use_bias is True, a bias vector is created and added to the outputs. Finally, if activation is not None, it is applied to the outputs as well.# Create the Convolutional Neural Network with keras\n",
    "For example a CNN that recognises handwritten numbers: [https://adamharley.com/nn_vis/cnn/2d.html](https://adamharley.com/nn_vis/cnn/2d.html)\n",
    "Here a fully connected neural network that also recognise handwritten numbers: [https://adamharley.com/nn_vis/mlp/2d.html](https://adamharley.com/nn_vis/mlp/2d.html)"
   ]
  },
  {
   "cell_type": "markdown",
   "metadata": {},
   "source": [
    "Use CNN.add() to add a [Layer](https://www.tensorflow.org/api_docs/python/tf/keras/layers) to your model. Here is a list of layers that might be useful:\n",
    "- [Convolution Layer](https://www.tensorflow.org/api_docs/python/tf/keras/layers/Conv2D): layers.Conv2D()\n",
    "- [Average Pooling](https://www.tensorflow.org/api_docs/python/tf/keras/layers/AveragePooling2D): layers.AveragePooling2D()\n",
    "- [Max Pooling](https://www.tensorflow.org/api_docs/python/tf/keras/layers/MaxPool2D): layers.MaxPool2D()\n",
    "- [Dropout](https://www.tensorflow.org/api_docs/python/tf/keras/layers/Dropout): layers.Dropout()\n",
    "- [Flattens](https://www.tensorflow.org/api_docs/python/tf/keras/layers/Flatten) the input. 2D -> 1D: layers.Flatten()\n",
    "- [Densely-connected NN layer](https://www.tensorflow.org/api_docs/python/tf/keras/layers/Dense): layers.Dense()"
   ]
  },
  {
   "cell_type": "code",
   "execution_count": 36,
   "metadata": {},
   "outputs": [
    {
     "name": "stdout",
     "output_type": "stream",
     "text": [
      "Model: \"sequential_2\"\n",
      "_________________________________________________________________\n",
      " Layer (type)                Output Shape              Param #   \n",
      "=================================================================\n",
      " conv2d_4 (Conv2D)           (None, 32, 32, 8)         224       \n",
      "                                                                 \n",
      " max_pooling2d_4 (MaxPooling  (None, 16, 16, 8)        0         \n",
      " 2D)                                                             \n",
      "                                                                 \n",
      " conv2d_5 (Conv2D)           (None, 16, 16, 12)        876       \n",
      "                                                                 \n",
      " max_pooling2d_5 (MaxPooling  (None, 8, 8, 12)         0         \n",
      " 2D)                                                             \n",
      "                                                                 \n",
      " flatten_2 (Flatten)         (None, 768)               0         \n",
      "                                                                 \n",
      " dense_8 (Dense)             (None, 128)               98432     \n",
      "                                                                 \n",
      " dropout_6 (Dropout)         (None, 128)               0         \n",
      "                                                                 \n",
      " dense_9 (Dense)             (None, 64)                8256      \n",
      "                                                                 \n",
      " dropout_7 (Dropout)         (None, 64)                0         \n",
      "                                                                 \n",
      " dense_10 (Dense)            (None, 32)                2080      \n",
      "                                                                 \n",
      " dropout_8 (Dropout)         (None, 32)                0         \n",
      "                                                                 \n",
      " dense_11 (Dense)            (None, 20)                660       \n",
      "                                                                 \n",
      "=================================================================\n",
      "Total params: 110,528\n",
      "Trainable params: 110,528\n",
      "Non-trainable params: 0\n",
      "_________________________________________________________________\n"
     ]
    }
   ],
   "source": [
    "from tensorflow.keras import datasets, layers, models\n",
    "from tensorflow import keras\n",
    "model = keras.models.Sequential()\n",
    "\n",
    "# Only in the first layer you have to select the input_shape of the data (image).\n",
    "# TODO: Replace the question marks:\n",
    "# model.add(layers.Conv2D( filters = ? , kernel_size = ( ? , ? ), padding = ? , activation = ? , input_shape = ( ? , ? , ?)))\n",
    "model.add(keras.layers.Conv2D(filters=8, kernel_size=3, padding=\"same\", activation=\"relu\", input_shape=(32, 32, 3)))\n",
    "# TODO: Add layers to the model: # Prints a summary of your network model.summary()\n",
    "model.add(keras.layers.MaxPool2D())\n",
    "model.add(keras.layers.Conv2D(12, 3, padding=\"same\", activation=\"relu\"))\n",
    "model.add(keras.layers.MaxPool2D())\n",
    "model.add(keras.layers.Flatten())\n",
    "model.add(keras.layers.Dense(128, activation=\"relu\"))\n",
    "model.add(keras.layers.Dropout(0.2))\n",
    "model.add(keras.layers.Dense(64))\n",
    "model.add(keras.layers.Dropout(0.2))\n",
    "model.add(keras.layers.Dense(32))\n",
    "model.add(keras.layers.Dense(20))\n",
    "\n",
    "model.summary()"
   ]
  },
  {
   "cell_type": "markdown",
   "metadata": {},
   "source": [
    "# Compile your model\n",
    "When you want, you can change the [optimizer](https://www.tensorflow.org/api_docs/python/tf/keras/optimizers) or the [loss function](https://www.tensorflow.org/api_docs/python/tf/keras/losses)."
   ]
  },
  {
   "cell_type": "code",
   "execution_count": 37,
   "metadata": {},
   "outputs": [
    {
     "name": "stdout",
     "output_type": "stream",
     "text": [
      "23520\n",
      "2880\n"
     ]
    }
   ],
   "source": [
    "model.compile(optimizer = 'Adam', loss = 'sparse_categorical_crossentropy', metrics = ['accuracy'])\n",
    "print(len(X_train))\n",
    "print(len(X_valid))"
   ]
  },
  {
   "cell_type": "markdown",
   "metadata": {},
   "source": [
    "# Train your model\n",
    "The documentation of the fit method: [https://www.tensorflow.org/api_docs/python/tf/keras/Model#fit](https://www.tensorflow.org/api_docs/python/tf/keras/Model#fit)"
   ]
  },
  {
   "cell_type": "code",
   "execution_count": 38,
   "metadata": {},
   "outputs": [
    {
     "name": "stdout",
     "output_type": "stream",
     "text": [
      "Epoch 1/25\n",
      "236/236 - 6s - loss: 4.2151 - accuracy: 0.0763 - val_loss: 3.6053 - val_accuracy: 0.0729 - 6s/epoch - 24ms/step\n",
      "Epoch 2/25\n",
      "236/236 - 4s - loss: 3.4323 - accuracy: 0.0736 - val_loss: 3.4751 - val_accuracy: 0.0729 - 4s/epoch - 18ms/step\n",
      "Epoch 3/25\n",
      "236/236 - 5s - loss: 3.2560 - accuracy: 0.0730 - val_loss: 3.2524 - val_accuracy: 0.1049 - 5s/epoch - 20ms/step\n",
      "Epoch 4/25\n",
      "236/236 - 4s - loss: 3.1295 - accuracy: 0.0768 - val_loss: 3.0778 - val_accuracy: 0.0729 - 4s/epoch - 19ms/step\n",
      "Epoch 5/25\n",
      "236/236 - 4s - loss: 3.0737 - accuracy: 0.0978 - val_loss: 3.2241 - val_accuracy: 0.0104 - 4s/epoch - 18ms/step\n",
      "Epoch 6/25\n",
      "236/236 - 4s - loss: 3.1850 - accuracy: 0.0494 - val_loss: 3.2068 - val_accuracy: 0.0729 - 4s/epoch - 18ms/step\n",
      "Epoch 7/25\n",
      "236/236 - 4s - loss: 3.2079 - accuracy: 0.0802 - val_loss: 3.2199 - val_accuracy: 0.0958 - 4s/epoch - 18ms/step\n",
      "Epoch 8/25\n",
      "236/236 - 4s - loss: 3.1364 - accuracy: 0.0843 - val_loss: 3.1575 - val_accuracy: 0.0729 - 4s/epoch - 18ms/step\n",
      "Epoch 9/25\n",
      "236/236 - 4s - loss: 3.0790 - accuracy: 0.0978 - val_loss: 3.0698 - val_accuracy: 0.0892 - 4s/epoch - 18ms/step\n",
      "Epoch 10/25\n",
      "236/236 - 4s - loss: 3.0191 - accuracy: 0.1352 - val_loss: 2.8989 - val_accuracy: 0.0819 - 4s/epoch - 18ms/step\n",
      "Epoch 11/25\n",
      "236/236 - 4s - loss: 2.8172 - accuracy: 0.1227 - val_loss: 2.4401 - val_accuracy: 0.1865 - 4s/epoch - 18ms/step\n",
      "Epoch 12/25\n",
      "236/236 - 4s - loss: 2.6144 - accuracy: 0.2280 - val_loss: 2.4985 - val_accuracy: 0.2062 - 4s/epoch - 18ms/step\n",
      "Epoch 13/25\n",
      "236/236 - 4s - loss: 2.8243 - accuracy: 0.1479 - val_loss: 2.8551 - val_accuracy: 0.0729 - 4s/epoch - 18ms/step\n",
      "Epoch 14/25\n",
      "236/236 - 4s - loss: 2.8910 - accuracy: 0.0802 - val_loss: 2.8490 - val_accuracy: 0.0729 - 4s/epoch - 18ms/step\n",
      "Epoch 15/25\n",
      "236/236 - 4s - loss: 2.8630 - accuracy: 0.0818 - val_loss: 2.8499 - val_accuracy: 0.0729 - 4s/epoch - 18ms/step\n",
      "Epoch 16/25\n",
      "236/236 - 4s - loss: 2.8591 - accuracy: 0.0798 - val_loss: 2.8488 - val_accuracy: 0.0729 - 4s/epoch - 18ms/step\n",
      "Epoch 17/25\n",
      "236/236 - 4s - loss: 2.8735 - accuracy: 0.1006 - val_loss: 2.7831 - val_accuracy: 0.1042 - 4s/epoch - 18ms/step\n",
      "Epoch 18/25\n",
      "236/236 - 4s - loss: 2.8354 - accuracy: 0.0950 - val_loss: 2.8450 - val_accuracy: 0.0837 - 4s/epoch - 18ms/step\n",
      "Epoch 19/25\n",
      "236/236 - 4s - loss: 2.7712 - accuracy: 0.1416 - val_loss: 2.7664 - val_accuracy: 0.1153 - 4s/epoch - 18ms/step\n",
      "Epoch 20/25\n",
      "236/236 - 5s - loss: 2.7201 - accuracy: 0.1744 - val_loss: 2.4243 - val_accuracy: 0.3059 - 5s/epoch - 19ms/step\n",
      "Epoch 21/25\n",
      "236/236 - 4s - loss: 2.8407 - accuracy: 0.1135 - val_loss: 2.8479 - val_accuracy: 0.0830 - 4s/epoch - 18ms/step\n",
      "Epoch 22/25\n",
      "236/236 - 4s - loss: 2.8590 - accuracy: 0.0821 - val_loss: 2.8479 - val_accuracy: 0.0830 - 4s/epoch - 18ms/step\n",
      "Epoch 23/25\n",
      "236/236 - 4s - loss: 2.8472 - accuracy: 0.0821 - val_loss: 2.8473 - val_accuracy: 0.0826 - 4s/epoch - 18ms/step\n",
      "Epoch 24/25\n",
      "236/236 - 4s - loss: 2.8486 - accuracy: 0.0847 - val_loss: 2.8504 - val_accuracy: 0.0830 - 4s/epoch - 19ms/step\n",
      "Epoch 25/25\n",
      "236/236 - 4s - loss: 2.8408 - accuracy: 0.0818 - val_loss: 2.8477 - val_accuracy: 0.0833 - 4s/epoch - 19ms/step\n"
     ]
    }
   ],
   "source": [
    "# TODO: Choose the batch size and the epochs\n",
    "history = model.fit(x = X_train_norm,\n",
    "                    y = y_train,\n",
    "                    batch_size = 100,\n",
    "                    epochs = 25,\n",
    "                    verbose = 2,\n",
    "                    validation_data = (X_valid_norm, y_valid))"
   ]
  },
  {
   "cell_type": "markdown",
   "metadata": {},
   "source": [
    "# Save your model\n",
    "Create a folder for your models"
   ]
  },
  {
   "cell_type": "code",
   "execution_count": 39,
   "metadata": {},
   "outputs": [],
   "source": [
    "model.save('saved_model/my_model.h5')"
   ]
  },
  {
   "cell_type": "markdown",
   "metadata": {},
   "source": [
    "# Analyse the results"
   ]
  },
  {
   "cell_type": "code",
   "execution_count": 40,
   "metadata": {},
   "outputs": [
    {
     "data": {
      "text/plain": "dict_keys(['loss', 'accuracy', 'val_loss', 'val_accuracy'])"
     },
     "execution_count": 40,
     "metadata": {},
     "output_type": "execute_result"
    }
   ],
   "source": [
    "history.history.keys()"
   ]
  },
  {
   "cell_type": "code",
   "execution_count": 41,
   "metadata": {},
   "outputs": [],
   "source": [
    "accuracy = history.history['accuracy']\n",
    "val_accuracy = history.history['val_accuracy']\n",
    "loss = history.history['loss']\n",
    "val_loss = history.history['val_loss']"
   ]
  },
  {
   "cell_type": "code",
   "execution_count": 42,
   "metadata": {},
   "outputs": [
    {
     "data": {
      "text/plain": "Text(0.5, 1.0, 'Training and Validation loss')"
     },
     "execution_count": 42,
     "metadata": {},
     "output_type": "execute_result"
    },
    {
     "data": {
      "text/plain": "<Figure size 640x480 with 1 Axes>",
      "image/png": "[encoded data removed]"
     },
     "metadata": {},
     "output_type": "display_data"
    }
   ],
   "source": [
    "epochs = range(len(accuracy))\n",
    "plt.plot(epochs, loss, 'b', label = 'Training loss')\n",
    "plt.plot(epochs, val_loss, 'r', label = 'Validation loss')\n",
    "plt.title('Training and Validation loss')"
   ]
  },
  {
   "cell_type": "code",
   "execution_count": 43,
   "metadata": {},
   "outputs": [
    {
     "data": {
      "text/plain": "Text(0.5, 1.0, 'Training and Validation accuracy')"
     },
     "execution_count": 43,
     "metadata": {},
     "output_type": "execute_result"
    },
    {
     "data": {
      "text/plain": "<Figure size 640x480 with 1 Axes>",
      "image/png": "[encoded data removed]"
     },
     "metadata": {},
     "output_type": "display_data"
    }
   ],
   "source": [
    "plt.plot(epochs, accuracy, 'ro', label = 'Training accuracy')\n",
    "plt.plot(epochs, val_accuracy, 'r', label = 'Validation accuracy')\n",
    "plt.title('Training and Validation accuracy')"
   ]
  },
  {
   "cell_type": "markdown",
   "metadata": {},
   "source": [
    "# Load your model"
   ]
  },
  {
   "cell_type": "code",
   "execution_count": 44,
   "metadata": {},
   "outputs": [],
   "source": [
    "model = tf.keras.models.load_model('saved_model/my_model.h5')"
   ]
  },
  {
   "cell_type": "markdown",
   "metadata": {},
   "source": [
    "# Test your model with the test dataset\n",
    "If you don't have the test dataset use the validation dataset."
   ]
  },
  {
   "cell_type": "code",
   "execution_count": 45,
   "metadata": {},
   "outputs": [
    {
     "name": "stdout",
     "output_type": "stream",
     "text": [
      "90/90 [==============================] - 1s 5ms/step - loss: 2.8477 - accuracy: 0.0833\n",
      "Test Accuracy: 0.0833333358168602\n"
     ]
    }
   ],
   "source": [
    "score = model.evaluate(X_valid_norm, y_valid)\n",
    "print('Test Accuracy: {}'.format(score[1]))"
   ]
  },
  {
   "cell_type": "code",
   "execution_count": 46,
   "metadata": {},
   "outputs": [
    {
     "name": "stdout",
     "output_type": "stream",
     "text": [
      "90/90 [==============================] - 1s 5ms/step\n"
     ]
    }
   ],
   "source": [
    "from sklearn.metrics import confusion_matrix\n",
    "predicted_classes = np.argmax(model.predict(X_valid_norm), axis=-1)\n",
    "y_true = y_valid\n",
    "\n",
    "cm = confusion_matrix(y_true, predicted_classes)"
   ]
  },
  {
   "cell_type": "code",
   "execution_count": null,
   "metadata": {},
   "outputs": [],
   "source": [
    "plt.figure(figsize = (25, 25))\n",
    "sns.heatmap(cm, annot = True)"
   ]
  }
 ],
 "metadata": {
  "kernelspec": {
   "display_name": "Python 3 (ipykernel)",
   "language": "python",
   "name": "python3"
  },
  "language_info": {
   "codemirror_mode": {
    "name": "ipython",
    "version": 3
   },
   "file_extension": ".py",
   "mimetype": "text/x-python",
   "name": "python",
   "nbconvert_exporter": "python",
   "pygments_lexer": "ipython3",
   "version": "3.10.6"
  }
 },
 "nbformat": 4,
 "nbformat_minor": 1
}
